{
  "cells": [
    {
      "cell_type": "markdown",
      "metadata": {
        "id": "I1TXW93FEgNE"
      },
      "source": [
        "###Crie uma lista chamada resultado com os seguintes elementos:\n",
        "* “Matemática”\n",
        "* 90\n",
        "* “Inglês”\n",
        "* 80\n",
        "* “História”\n",
        "* 75\n",
        "* “Artes”\n",
        "* 85\n"
      ]
    },
    {
      "cell_type": "code",
      "execution_count": null,
      "metadata": {
        "id": "3YRA8m_xE0bJ"
      },
      "outputs": [],
      "source": [
        "result = [  ] \n",
        "result "
      ]
    },
    {
      "cell_type": "markdown",
      "metadata": {
        "id": "NJAthvIsE4DG"
      },
      "source": [
        "###Use slice para imprimir apenas os nomes das matérias"
      ]
    },
    {
      "cell_type": "code",
      "execution_count": null,
      "metadata": {
        "id": "Cwz4dTHbFBhb"
      },
      "outputs": [],
      "source": [
        "result[ : : ]"
      ]
    },
    {
      "cell_type": "markdown",
      "metadata": {
        "id": "N7ZSuaJeE_I6"
      },
      "source": [
        "###Use slice para imprimir apenas as notas"
      ]
    },
    {
      "cell_type": "code",
      "execution_count": null,
      "metadata": {
        "id": "T21W2oLuFCOx"
      },
      "outputs": [],
      "source": [
        "result[ : : ]"
      ]
    }
  ],
  "metadata": {
    "colab": {
      "provenance": []
    },
    "kernelspec": {
      "display_name": "Python 3",
      "name": "python3"
    },
    "language_info": {
      "name": "python"
    }
  },
  "nbformat": 4,
  "nbformat_minor": 0
}
